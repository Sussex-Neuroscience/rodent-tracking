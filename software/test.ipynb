{
 "cells": [
  {
   "cell_type": "markdown",
   "metadata": {},
   "source": [
    "# Analyse camera tracking data\n",
    "\n",
    "### created by Chagas, Andre M \n",
    "### Distributed under CC BY SA 4.0 20200310"
   ]
  },
  {
   "cell_type": "code",
   "execution_count": 1,
   "metadata": {},
   "outputs": [],
   "source": [
    "#import necessary libraries\n",
    "import os\n",
    "\n",
    "import pandas as pd\n",
    "import seaborn as sns\n",
    "import numpy as np\n",
    "import matplotlib.pyplot as plt"
   ]
  },
  {
   "cell_type": "code",
   "execution_count": 2,
   "metadata": {},
   "outputs": [
    {
     "name": "stdout",
     "output_type": "stream",
     "text": [
      "wheelmoving\n",
      "wheel.Item1.wheelROI.X\n",
      "wheel.Item1.wheelROI.Y\n",
      "wheel.Item1.wheelROI.Width\n",
      "wheel.Item1.wheelROI.Height\n",
      "wheel.Item2.wheel.Centroid.X\n",
      "wheel.Item2.wheel.Centroid.Y\n",
      "wheel.Item2.wheel.Orientation\n",
      "wheel.Item2.wheel.MajorAxisLength\n",
      "wheel.Item2.wheel.MinorAxisLength\n",
      "wheel.Item2.wheel.Area\n",
      "mousemoving\n",
      "mouse.Item1.mouse.Centroid.X\n",
      "mouse.Item1.mouse.Centroid.Y\n",
      "mouse.Item1.mouse.Orientation\n",
      "mouse.Item1.mouse.MajorAxisLength\n",
      "mouse.Item1.mouse.MinorAxisLength\n",
      "mouse.Item1.mouse.Area\n",
      "mouse.Item2.mouseROI.X\n",
      "mouse.Item2.mouseROI.Y\n",
      "mouse.Item2.mouseROI.Width\n",
      "mouse.Item2.mouseROI.Height\n",
      "frameinterval\n",
      "timestamp\n"
     ]
    }
   ],
   "source": [
    "# set the file path \n",
    "\n",
    "#filepath = \"/mnt/d/repositories/rodent-tracking/test_data/all_data.csv\"\n",
    "\n",
    "filepath = \"~/repositories/sussex_neuro/rodent-tracking/test_data/all_data3.csv\"\n",
    "fid = pd.read_csv(filepath)\n",
    "\n",
    "# rename columns so it is easier to call them \n",
    "# there is probably a better way of setting their names in Bonsai...\n",
    "\n",
    "for key in fid.keys():\n",
    "    \n",
    "    secondDot = key.find(\".\",6)\n",
    "    fid = fid.rename(columns = {key:key[secondDot+1:]})\n",
    "    print(key[secondDot+1:])\n"
   ]
  },
  {
   "cell_type": "markdown",
   "metadata": {},
   "source": [
    "---\n",
    "**travelled distance**\n",
    "\n",
    "\n",
    "if there was only the mouse on the cage, the travelled distance would be: \n",
    "- given by pythagoras a2 = b2 X c2 for where b and c are x and y dimensions, and their magnitude is the difference between 2 consecutive frames.\n",
    "\n",
    "But the mouse has a wheel in its cage, so we need to add the \"distance\" the wheel\n",
    "travelled to the distance travelled by the animal (since while running on the wheel,\n",
    "the animal is static in relation to the cage and camera).\n",
    "\n",
    "so in the end we want the distance travelled by the mouse while it was NOT on \n",
    "the wheel, plus the distance travelled by the wheel, while the wheel was moving\n"
   ]
  },
  {
   "cell_type": "code",
   "execution_count": 3,
   "metadata": {},
   "outputs": [],
   "source": [
    "### mouse distance X when wheel was NOT moving\n",
    "#get boolean array for when mouse is moving, but wheel is not:\n",
    "fid  = fid.join(pd.Series(data = (fid[\"mousemoving\"] & ~fid[\"wheelmoving\"]),name=\"onlymouse\"))\n",
    "#print(fid[\"onlymouse\"])"
   ]
  },
  {
   "cell_type": "code",
   "execution_count": 4,
   "metadata": {},
   "outputs": [
    {
     "data": {
      "text/plain": [
       "<seaborn.axisgrid.JointGrid at 0x7fa28015ec90>"
      ]
     },
     "execution_count": 4,
     "metadata": {},
     "output_type": "execute_result"
    },
    {
     "data": {
      "image/png": "[encoded data removed]",
      "text/plain": [
       "<Figure size 432x432 with 3 Axes>"
      ]
     },
     "metadata": {
      "needs_background": "light"
     },
     "output_type": "display_data"
    }
   ],
   "source": [
    "### mouse distance X \n",
    "mouseXdist = fid[\"mouse.Item1.mouse.Centroid.X\"].diff()\n",
    "### mouse distance Y \n",
    "mouseYdist = fid[\"mouse.Item1.mouse.Centroid.Y\"].diff()\n",
    "\n",
    "sns.jointplot(x=\"mouse.Item1.mouse.Centroid.X\", \n",
    "              y=\"mouse.Item1.mouse.Centroid.Y\", \n",
    "              data=fid,kind=\"hex\",dropna=True,\n",
    "              #xlim=[0,600],ylim=[0,500]\n",
    "              )"
   ]
  },
  {
   "cell_type": "code",
   "execution_count": 15,
   "metadata": {},
   "outputs": [
    {
     "name": "stdout",
     "output_type": "stream",
     "text": [
      "6199.220329555352\n"
     ]
    }
   ],
   "source": [
    "# mouse movement (excluding the times when the mouse was on the wheel) using pythagoras \n",
    "onlyMouseDist = np.sqrt(mouseXdist[fid[\"onlymouse\"]]**2+mouseYdist[fid[\"onlymouse\"]]**2) \n",
    "onlyMouseDist = onlyMouseDist.sum()\n",
    "print(onlyMouseDist)\n",
    "#plt.plot(onlyMouseDist)"
   ]
  },
  {
   "cell_type": "markdown",
   "metadata": {},
   "source": [
    "---\n",
    "\n",
    "#### before calculating the rest of total movement, we need to make some considerations on the wheel movement:\n",
    "\n",
    "\n"
   ]
  },
  {
   "cell_type": "markdown",
   "metadata": {},
   "source": [
    "**calculate distance travelled while on the wheel**\n",
    "\n",
    "The wheel has a black marker that is used to track its movement. the tracker is set close to the center of the wheel and the readings we have to work with are X and Y positions of this tracker in relation to the bottom left corner of the WheelROI (the next cell plots the raw data for better visualisation)"
   ]
  },
  {
   "cell_type": "code",
   "execution_count": 6,
   "metadata": {},
   "outputs": [
    {
     "data": {
      "text/plain": [
       "[<matplotlib.lines.Line2D at 0x7fa27fb78790>]"
      ]
     },
     "execution_count": 6,
     "metadata": {},
     "output_type": "execute_result"
    },
    {
     "data": {
      "image/png": "[encoded data removed]",
      "text/plain": [
       "<Figure size 432x288 with 1 Axes>"
      ]
     },
     "metadata": {
      "needs_background": "light"
     },
     "output_type": "display_data"
    }
   ],
   "source": [
    "plt.plot(fid[\"wheel.Item2.wheel.Centroid.X\"],fid[\"wheel.Item2.wheel.Centroid.Y\"],'bo')"
   ]
  },
  {
   "cell_type": "markdown",
   "metadata": {},
   "source": [
    "the above graph shows all detected X against Y positions of the wheel marker (this is a bit noisy at the moment, but can/should be cleaned up using bonsai). Gap on the top can happen because of a glare from the IR light from the camera leds."
   ]
  },
  {
   "cell_type": "code",
   "execution_count": 7,
   "metadata": {},
   "outputs": [
    {
     "data": {
      "text/plain": [
       "[<matplotlib.lines.Line2D at 0x7fa27fae9250>]"
      ]
     },
     "execution_count": 7,
     "metadata": {},
     "output_type": "execute_result"
    },
    {
     "data": {
      "image/png": "[encoded data removed]",
      "text/plain": [
       "<Figure size 432x288 with 1 Axes>"
      ]
     },
     "metadata": {
      "needs_background": "light"
     },
     "output_type": "display_data"
    }
   ],
   "source": [
    "# get the x and y average positions are remove them from each dimension, so to \"center\" the wheel\n",
    "wheelXavg = fid[\"wheel.Item2.wheel.Centroid.X\"].mean()\n",
    "wheelYavg = fid[\"wheel.Item2.wheel.Centroid.Y\"].mean()\n",
    "\n",
    "\n",
    "fid = fid.join(pd.Series(data = (fid[\"wheel.Item2.wheel.Centroid.X\"]-wheelXavg),name=\"wheelXcentered\"))\n",
    "fid = fid.join(pd.Series(data = (fid[\"wheel.Item2.wheel.Centroid.Y\"]-wheelYavg),name=\"wheelYcentered\"))\n",
    "\n",
    "\n",
    "plt.plot(fid[\"wheel.Item2.wheel.Centroid.X\"]-wheelXavg,fid[\"wheel.Item2.wheel.Centroid.Y\"]-wheelYavg,\"bo\")"
   ]
  },
  {
   "cell_type": "markdown",
   "metadata": {},
   "source": [
    "\n",
    "With X' and Y' centered values, we can get distance travelled :  \n",
    "\n",
    "1.calculate the tangent(alpha) value for each frame tan(alpha) = Y'/X'.  \n",
    "2.calculate the arctan(alpha) which gives alpha in radians  \n",
    "3.multiply radians by the radius (either the marker distance from the centre of the wheel, or the wheel radius -  which could be more accurate in terms of distance)  \n",
    "4.get the difference between each frame  \n",
    "5.sum the module of the differences  \n",
    "\n",
    "\n"
   ]
  },
  {
   "cell_type": "code",
   "execution_count": 13,
   "metadata": {},
   "outputs": [
    {
     "name": "stdout",
     "output_type": "stream",
     "text": [
      "2948.919809792797\n"
     ]
    }
   ],
   "source": [
    "#wheelradius: either the distance from marker to wheel center or actual wheel radius.\n",
    "# here just set to 1 for demonstration purposes\n",
    "wheelRadius = 1\n",
    "#1\n",
    "tanA = fid[\"wheelYcentered\"]/fid[\"wheelXcentered\"]\n",
    "#2\n",
    "arcTanA = np.arctan(tanA)\n",
    "#3\n",
    "wheelMov = arcTanA*wheelRadius\n",
    "#4 \n",
    "wheelDist = np.diff(wheelMov)\n",
    "#5\n",
    "wheelDist = np.sum(np.abs(wheelMov))\n",
    "print(wheelDist)\n",
    "#plt.plot(wheelDist)"
   ]
  },
  {
   "cell_type": "markdown",
   "metadata": {},
   "source": [
    "Now that we have the wheel dist, we can add it to the alread calculated mouse distance"
   ]
  },
  {
   "cell_type": "code",
   "execution_count": 19,
   "metadata": {},
   "outputs": [
    {
     "name": "stdout",
     "output_type": "stream",
     "text": [
      "total distance: 9148.140139348148\n",
      "distance percentage on wheel: 0.3223518403602989\n"
     ]
    }
   ],
   "source": [
    "totalDist = onlyMouseDist + wheelDist\n",
    "print(\"total distance: \" + str(totalDist))\n",
    "print(\"distance percentage on wheel: \" + str(wheelDist/totalDist) )\n",
    "#note that for now the wheel radius is wrong, so the distance on the wheel is going to be smaller"
   ]
  },
  {
   "cell_type": "code",
   "execution_count": 12,
   "metadata": {},
   "outputs": [
    {
     "data": {
      "text/plain": [
       "[<matplotlib.lines.Line2D at 0x7f3926af9b50>]"
      ]
     },
     "execution_count": 12,
     "metadata": {},
     "output_type": "execute_result"
    },
    {
     "data": {
      "image/png": "[encoded data removed]",
      "text/plain": [
       "<Figure size 432x288 with 1 Axes>"
      ]
     },
     "metadata": {
      "needs_background": "light"
     },
     "output_type": "display_data"
    }
   ],
   "source": [
    "plt.plot(np.diff(np.arctan(tanA)))*wheelRadius"
   ]
  },
  {
   "cell_type": "code",
   "execution_count": 13,
   "metadata": {},
   "outputs": [
    {
     "data": {
      "text/plain": [
       "972.0031091350038"
      ]
     },
     "execution_count": 13,
     "metadata": {},
     "output_type": "execute_result"
    }
   ],
   "source": [
    "np.sum(np.abs(np.diff(np.arctan(tanA.dropna()))*wheelRadius))"
   ]
  },
  {
   "cell_type": "markdown",
   "metadata": {},
   "source": [
    "#### Moving time\n",
    "\n",
    "Get the total moving time, wheel plus non-wheel\n"
   ]
  },
  {
   "cell_type": "code",
   "execution_count": 21,
   "metadata": {},
   "outputs": [
    {
     "name": "stdout",
     "output_type": "stream",
     "text": [
      "recording time: 238.91964159999043 seconds\n",
      "total moving time: 44.49887999991188 seconds\n",
      "wheel moving time: 38.842483199900016 seconds\n",
      "mouse moving time: 5.656396800011862 seconds\n",
      "percentage of moving time spent on wheel: 0.8728867602954712\n"
     ]
    }
   ],
   "source": [
    "totalTime = fid[\"frameinterval\"]\n",
    "movingTime = totalTime[fid[\"onlymouse\"]].sum() + totalTime[fid[\"wheelmoving\"]].sum()\n",
    "\n",
    "print(\"recording time: \" + str(totalTime.sum())+ \" seconds\")\n",
    "print(\"total moving time: \" + str(movingTime) + \" seconds\")\n",
    "print(\"wheel moving time: \"+ str(totalTime[fid[\"wheelmoving\"]].sum())+ \" seconds\")\n",
    "print(\"mouse moving time: \" + str(totalTime[fid[\"onlymouse\"]].sum())+ \" seconds\")\n",
    "print(\"percentage of moving time spent on wheel: \" + str(totalTime[fid[\"wheelmoving\"]].sum()/movingTime))"
   ]
  },
  {
   "cell_type": "code",
   "execution_count": null,
   "metadata": {},
   "outputs": [],
   "source": []
  }
 ],
 "metadata": {
  "file_extension": ".py",
  "kernelspec": {
   "display_name": "Python 3",
   "language": "python",
   "name": "python3"
  },
  "language_info": {
   "codemirror_mode": {
    "name": "ipython",
    "version": 3
   },
   "file_extension": ".py",
   "mimetype": "text/x-python",
   "name": "python",
   "nbconvert_exporter": "python",
   "pygments_lexer": "ipython3",
   "version": "3.7.4"
  },
  "mimetype": "text/x-python",
  "name": "python",
  "npconvert_exporter": "python",
  "pygments_lexer": "ipython3",
  "version": 3
 },
 "nbformat": 4,
 "nbformat_minor": 4
}
