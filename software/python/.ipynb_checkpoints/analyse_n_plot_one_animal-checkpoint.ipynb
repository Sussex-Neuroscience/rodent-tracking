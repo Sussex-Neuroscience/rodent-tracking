{
 "cells": [
  {
   "cell_type": "markdown",
   "metadata": {},
   "source": [
    "# Analyse camera tracking data\n",
    "\n",
    "### created by Chagas, Andre M \n",
    "### Distributed under CC BY SA 4.0 20200310\n",
    "\n",
    "---\n",
    "\n",
    "all paths are described in relation to the location of the jupyter notebook."
   ]
  },
  {
   "cell_type": "code",
   "execution_count": 3,
   "metadata": {},
   "outputs": [],
   "source": [
    "#import necessary libraries\n",
    "import os\n",
    "\n",
    "import pandas as pd\n",
    "import seaborn as sns\n",
    "import numpy as np\n",
    "import matplotlib.pyplot as plt\n",
    "import support"
   ]
  },
  {
   "cell_type": "code",
   "execution_count": 29,
   "metadata": {},
   "outputs": [
    {
     "name": "stdout",
     "output_type": "stream",
     "text": [
      "['all_data.csv', 'all_data26.csv', 'all_data3.csv', 'arya_trimmed.csv']\n"
     ]
    }
   ],
   "source": [
    "#location of csv files:\n",
    "csvPath = \"..//..//test_data//csvs//\"\n",
    "\n",
    "#select which animal to analyse\n",
    "animalFolder = \"\"\n",
    "\n",
    "#get a list of the files so they can be analysed in a batch:\n",
    "csvFiles = [f for f in os.listdir(csvPath+animalFolder) if os.path.isfile(os.path.join(csvPath, f))]\n",
    "print(csvFiles)\n"
   ]
  },
  {
   "cell_type": "code",
   "execution_count": 10,
   "metadata": {},
   "outputs": [
    {
     "ename": "ValueError",
     "evalue": "columns overlap but no suffix specified: Int64Index([0], dtype='int64')",
     "output_type": "error",
     "traceback": [
      "\u001b[0;31m---------------------------------------------------------------------------\u001b[0m",
      "\u001b[0;31mValueError\u001b[0m                                Traceback (most recent call last)",
      "\u001b[0;32m<ipython-input-10-d33411a6b0d6>\u001b[0m in \u001b[0;36m<module>\u001b[0;34m\u001b[0m\n\u001b[1;32m      1\u001b[0m \u001b[0mtest\u001b[0m \u001b[0;34m=\u001b[0m \u001b[0mpd\u001b[0m\u001b[0;34m.\u001b[0m\u001b[0mDataFrame\u001b[0m\u001b[0;34m(\u001b[0m\u001b[0;34m)\u001b[0m\u001b[0;34m\u001b[0m\u001b[0;34m\u001b[0m\u001b[0m\n\u001b[1;32m      2\u001b[0m \u001b[0mtest\u001b[0m \u001b[0;34m=\u001b[0m \u001b[0mtest\u001b[0m\u001b[0;34m.\u001b[0m\u001b[0mjoin\u001b[0m\u001b[0;34m(\u001b[0m\u001b[0mpd\u001b[0m\u001b[0;34m.\u001b[0m\u001b[0mDataFrame\u001b[0m\u001b[0;34m(\u001b[0m\u001b[0;34m[\u001b[0m\u001b[0;36m1\u001b[0m\u001b[0;34m,\u001b[0m\u001b[0;36m2\u001b[0m\u001b[0;34m,\u001b[0m\u001b[0;36m3\u001b[0m\u001b[0;34m]\u001b[0m\u001b[0;34m)\u001b[0m\u001b[0;34m)\u001b[0m\u001b[0;34m\u001b[0m\u001b[0;34m\u001b[0m\u001b[0m\n\u001b[0;32m----> 3\u001b[0;31m \u001b[0mtest\u001b[0m \u001b[0;34m=\u001b[0m \u001b[0mtest\u001b[0m\u001b[0;34m.\u001b[0m\u001b[0mjoin\u001b[0m\u001b[0;34m(\u001b[0m\u001b[0mpd\u001b[0m\u001b[0;34m.\u001b[0m\u001b[0mDataFrame\u001b[0m\u001b[0;34m(\u001b[0m\u001b[0;34m[\u001b[0m\u001b[0;36m4\u001b[0m\u001b[0;34m,\u001b[0m\u001b[0;36m5\u001b[0m\u001b[0;34m,\u001b[0m\u001b[0;36m6\u001b[0m\u001b[0;34m]\u001b[0m\u001b[0;34m)\u001b[0m\u001b[0;34m)\u001b[0m\u001b[0;34m\u001b[0m\u001b[0;34m\u001b[0m\u001b[0m\n\u001b[0m\u001b[1;32m      4\u001b[0m \u001b[0mtest\u001b[0m\u001b[0;34m\u001b[0m\u001b[0;34m\u001b[0m\u001b[0m\n",
      "\u001b[0;32m~/miniconda3/lib/python3.7/site-packages/pandas/core/frame.py\u001b[0m in \u001b[0;36mjoin\u001b[0;34m(self, other, on, how, lsuffix, rsuffix, sort)\u001b[0m\n\u001b[1;32m   7259\u001b[0m         \u001b[0;31m# For SparseDataFrame's benefit\u001b[0m\u001b[0;34m\u001b[0m\u001b[0;34m\u001b[0m\u001b[0;34m\u001b[0m\u001b[0m\n\u001b[1;32m   7260\u001b[0m         return self._join_compat(\n\u001b[0;32m-> 7261\u001b[0;31m             \u001b[0mother\u001b[0m\u001b[0;34m,\u001b[0m \u001b[0mon\u001b[0m\u001b[0;34m=\u001b[0m\u001b[0mon\u001b[0m\u001b[0;34m,\u001b[0m \u001b[0mhow\u001b[0m\u001b[0;34m=\u001b[0m\u001b[0mhow\u001b[0m\u001b[0;34m,\u001b[0m \u001b[0mlsuffix\u001b[0m\u001b[0;34m=\u001b[0m\u001b[0mlsuffix\u001b[0m\u001b[0;34m,\u001b[0m \u001b[0mrsuffix\u001b[0m\u001b[0;34m=\u001b[0m\u001b[0mrsuffix\u001b[0m\u001b[0;34m,\u001b[0m \u001b[0msort\u001b[0m\u001b[0;34m=\u001b[0m\u001b[0msort\u001b[0m\u001b[0;34m\u001b[0m\u001b[0;34m\u001b[0m\u001b[0m\n\u001b[0m\u001b[1;32m   7262\u001b[0m         )\n\u001b[1;32m   7263\u001b[0m \u001b[0;34m\u001b[0m\u001b[0m\n",
      "\u001b[0;32m~/miniconda3/lib/python3.7/site-packages/pandas/core/frame.py\u001b[0m in \u001b[0;36m_join_compat\u001b[0;34m(self, other, on, how, lsuffix, rsuffix, sort)\u001b[0m\n\u001b[1;32m   7282\u001b[0m                 \u001b[0mright_index\u001b[0m\u001b[0;34m=\u001b[0m\u001b[0;32mTrue\u001b[0m\u001b[0;34m,\u001b[0m\u001b[0;34m\u001b[0m\u001b[0;34m\u001b[0m\u001b[0m\n\u001b[1;32m   7283\u001b[0m                 \u001b[0msuffixes\u001b[0m\u001b[0;34m=\u001b[0m\u001b[0;34m(\u001b[0m\u001b[0mlsuffix\u001b[0m\u001b[0;34m,\u001b[0m \u001b[0mrsuffix\u001b[0m\u001b[0;34m)\u001b[0m\u001b[0;34m,\u001b[0m\u001b[0;34m\u001b[0m\u001b[0;34m\u001b[0m\u001b[0m\n\u001b[0;32m-> 7284\u001b[0;31m                 \u001b[0msort\u001b[0m\u001b[0;34m=\u001b[0m\u001b[0msort\u001b[0m\u001b[0;34m,\u001b[0m\u001b[0;34m\u001b[0m\u001b[0;34m\u001b[0m\u001b[0m\n\u001b[0m\u001b[1;32m   7285\u001b[0m             )\n\u001b[1;32m   7286\u001b[0m         \u001b[0;32melse\u001b[0m\u001b[0;34m:\u001b[0m\u001b[0;34m\u001b[0m\u001b[0;34m\u001b[0m\u001b[0m\n",
      "\u001b[0;32m~/miniconda3/lib/python3.7/site-packages/pandas/core/reshape/merge.py\u001b[0m in \u001b[0;36mmerge\u001b[0;34m(left, right, how, on, left_on, right_on, left_index, right_index, sort, suffixes, copy, indicator, validate)\u001b[0m\n\u001b[1;32m     81\u001b[0m         \u001b[0mvalidate\u001b[0m\u001b[0;34m=\u001b[0m\u001b[0mvalidate\u001b[0m\u001b[0;34m,\u001b[0m\u001b[0;34m\u001b[0m\u001b[0;34m\u001b[0m\u001b[0m\n\u001b[1;32m     82\u001b[0m     )\n\u001b[0;32m---> 83\u001b[0;31m     \u001b[0;32mreturn\u001b[0m \u001b[0mop\u001b[0m\u001b[0;34m.\u001b[0m\u001b[0mget_result\u001b[0m\u001b[0;34m(\u001b[0m\u001b[0;34m)\u001b[0m\u001b[0;34m\u001b[0m\u001b[0;34m\u001b[0m\u001b[0m\n\u001b[0m\u001b[1;32m     84\u001b[0m \u001b[0;34m\u001b[0m\u001b[0m\n\u001b[1;32m     85\u001b[0m \u001b[0;34m\u001b[0m\u001b[0m\n",
      "\u001b[0;32m~/miniconda3/lib/python3.7/site-packages/pandas/core/reshape/merge.py\u001b[0m in \u001b[0;36mget_result\u001b[0;34m(self)\u001b[0m\n\u001b[1;32m    646\u001b[0m \u001b[0;34m\u001b[0m\u001b[0m\n\u001b[1;32m    647\u001b[0m         llabels, rlabels = _items_overlap_with_suffix(\n\u001b[0;32m--> 648\u001b[0;31m             \u001b[0mldata\u001b[0m\u001b[0;34m.\u001b[0m\u001b[0mitems\u001b[0m\u001b[0;34m,\u001b[0m \u001b[0mlsuf\u001b[0m\u001b[0;34m,\u001b[0m \u001b[0mrdata\u001b[0m\u001b[0;34m.\u001b[0m\u001b[0mitems\u001b[0m\u001b[0;34m,\u001b[0m \u001b[0mrsuf\u001b[0m\u001b[0;34m\u001b[0m\u001b[0;34m\u001b[0m\u001b[0m\n\u001b[0m\u001b[1;32m    649\u001b[0m         )\n\u001b[1;32m    650\u001b[0m \u001b[0;34m\u001b[0m\u001b[0m\n",
      "\u001b[0;32m~/miniconda3/lib/python3.7/site-packages/pandas/core/reshape/merge.py\u001b[0m in \u001b[0;36m_items_overlap_with_suffix\u001b[0;34m(left, lsuffix, right, rsuffix)\u001b[0m\n\u001b[1;32m   2009\u001b[0m         raise ValueError(\n\u001b[1;32m   2010\u001b[0m             \u001b[0;34m\"columns overlap but no suffix specified: \"\u001b[0m\u001b[0;34m\u001b[0m\u001b[0;34m\u001b[0m\u001b[0m\n\u001b[0;32m-> 2011\u001b[0;31m             \u001b[0;34m\"{rename}\"\u001b[0m\u001b[0;34m.\u001b[0m\u001b[0mformat\u001b[0m\u001b[0;34m(\u001b[0m\u001b[0mrename\u001b[0m\u001b[0;34m=\u001b[0m\u001b[0mto_rename\u001b[0m\u001b[0;34m)\u001b[0m\u001b[0;34m\u001b[0m\u001b[0;34m\u001b[0m\u001b[0m\n\u001b[0m\u001b[1;32m   2012\u001b[0m         )\n\u001b[1;32m   2013\u001b[0m \u001b[0;34m\u001b[0m\u001b[0m\n",
      "\u001b[0;31mValueError\u001b[0m: columns overlap but no suffix specified: Int64Index([0], dtype='int64')"
     ]
    }
   ],
   "source": [
    "test = pd.DataFrame()\n",
    "test = test.join(pd.DataFrame([1,2,3]))\n",
    "test = test.join(pd.DataFrame([4,5,6]))\n",
    "test"
   ]
  },
  {
   "cell_type": "code",
   "execution_count": 3,
   "metadata": {},
   "outputs": [
    {
     "name": "stdout",
     "output_type": "stream",
     "text": [
      "wheelmoving\n",
      "wheel.Item1.wheelROI.X\n",
      "wheel.Item1.wheelROI.Y\n",
      "wheel.Item1.wheelROI.Width\n",
      "wheel.Item1.wheelROI.Height\n",
      "wheel.Item2.wheel.Centroid.X\n",
      "wheel.Item2.wheel.Centroid.Y\n",
      "wheel.Item2.wheel.Orientation\n",
      "wheel.Item2.wheel.MajorAxisLength\n",
      "wheel.Item2.wheel.MinorAxisLength\n",
      "wheel.Item2.wheel.Area\n",
      "mousemoving\n",
      "mouse.Item1.mouse.Centroid.X\n",
      "mouse.Item1.mouse.Centroid.Y\n",
      "mouse.Item1.mouse.Orientation\n",
      "mouse.Item1.mouse.MajorAxisLength\n",
      "mouse.Item1.mouse.MinorAxisLength\n",
      "mouse.Item1.mouse.Area\n",
      "mouse.Item2.mouseROI.X\n",
      "mouse.Item2.mouseROI.Y\n",
      "mouse.Item2.mouseROI.Width\n",
      "mouse.Item2.mouseROI.Height\n",
      "frameinterval\n",
      "timestamp\n"
     ]
    }
   ],
   "source": [
    "# set the file path \n",
    "\n",
    "#filepath = \"/mnt/d/repositories/rodent-tracking/test_data/all_data.csv\"\n",
    "fid = pd.DataFrame()\n",
    "for item in csvFiles:\n",
    "    fid = pd.read_csv(filepath)\n",
    "    fid = support.rename_rows(fid)\n",
    "#print(fid)\n",
    "\n",
    "\n"
   ]
  },
  {
   "cell_type": "markdown",
   "metadata": {},
   "source": [
    "---\n",
    "**travelled distance**\n",
    "\n",
    "\n",
    "if there was only the mouse on the cage, the travelled distance would be: \n",
    "- given by pythagoras a2 = b2 + c2 for where b and c are x and y dimensions, and their magnitude is the difference between 2 consecutive frames.\n",
    "\n",
    "But the mouse has a wheel in its cage, so we need to add the \"distance\" the wheel\n",
    "travelled to the distance travelled by the animal (since while running on the wheel,\n",
    "the animal is static in relation to the cage and camera).\n",
    "\n",
    "so in the end we want the distance travelled by the mouse while it was NOT on \n",
    "the wheel, plus the distance travelled by the wheel, while the wheel was moving\n"
   ]
  },
  {
   "cell_type": "code",
   "execution_count": 4,
   "metadata": {},
   "outputs": [
    {
     "data": {
      "text/plain": [
       "0       False\n",
       "1       False\n",
       "2       False\n",
       "3       False\n",
       "4       False\n",
       "        ...  \n",
       "8936    False\n",
       "8937    False\n",
       "8938    False\n",
       "8939    False\n",
       "8940     True\n",
       "Name: onlymouse, Length: 8941, dtype: bool"
      ]
     },
     "execution_count": 4,
     "metadata": {},
     "output_type": "execute_result"
    }
   ],
   "source": [
    "pd.Series(data = (fid[\"mousemoving\"] & ~fid[\"wheelmoving\"]),name=\"onlymouse\")"
   ]
  },
  {
   "cell_type": "code",
   "execution_count": 5,
   "metadata": {},
   "outputs": [],
   "source": [
    "### mouse distance X when wheel was NOT moving\n",
    "#get boolean array for when mouse is moving, but wheel is not:\n",
    "fid  = fid.join(pd.Series(data = (fid[\"mousemoving\"] & ~fid[\"wheelmoving\"]),name=\"onlymouse\"))\n",
    "#print(fid[\"onlymouse\"])"
   ]
  },
  {
   "cell_type": "code",
   "execution_count": 6,
   "metadata": {},
   "outputs": [],
   "source": [
    "\n",
    "\n",
    "### mouse distance X \n",
    "mouseXdist = fid[\"mouse.Item1.mouse.Centroid.X\"].diff()\n",
    "### mouse distance Y \n",
    "mouseYdist = fid[\"mouse.Item1.mouse.Centroid.Y\"].diff()\n",
    "\n"
   ]
  },
  {
   "cell_type": "code",
   "execution_count": 18,
   "metadata": {},
   "outputs": [
    {
     "data": {
      "text/plain": [
       "<matplotlib.axes._subplots.AxesSubplot at 0x7f411127e210>"
      ]
     },
     "execution_count": 18,
     "metadata": {},
     "output_type": "execute_result"
    },
    {
     "data": {
      "image/png": "[encoded data removed]",
      "text/plain": [
       "<Figure size 1440x720 with 6 Axes>"
      ]
     },
     "metadata": {
      "needs_background": "light"
     },
     "output_type": "display_data"
    }
   ],
   "source": [
    "fig, axes = plt.subplots(nrows=2, ncols=3, figsize = (20, 10))\n",
    "\n",
    "fid.plot(x=\"mouse.Item1.mouse.Centroid.X\",\n",
    "         y=\"mouse.Item1.mouse.Centroid.Y\",\n",
    "         kind=\"scatter\",\n",
    "         ax=axes[0,0])\n",
    "\n",
    "\n"
   ]
  },
  {
   "cell_type": "code",
   "execution_count": 19,
   "metadata": {},
   "outputs": [
    {
     "data": {
      "text/plain": [
       "Index(['wheelmoving', 'wheel.Item1.wheelROI.X', 'wheel.Item1.wheelROI.Y',\n",
       "       'wheel.Item1.wheelROI.Width', 'wheel.Item1.wheelROI.Height',\n",
       "       'wheel.Item2.wheel.Centroid.X', 'wheel.Item2.wheel.Centroid.Y',\n",
       "       'wheel.Item2.wheel.Orientation', 'wheel.Item2.wheel.MajorAxisLength',\n",
       "       'wheel.Item2.wheel.MinorAxisLength', 'wheel.Item2.wheel.Area',\n",
       "       'mousemoving', 'mouse.Item1.mouse.Centroid.X',\n",
       "       'mouse.Item1.mouse.Centroid.Y', 'mouse.Item1.mouse.Orientation',\n",
       "       'mouse.Item1.mouse.MajorAxisLength',\n",
       "       'mouse.Item1.mouse.MinorAxisLength', 'mouse.Item1.mouse.Area',\n",
       "       'mouse.Item2.mouseROI.X', 'mouse.Item2.mouseROI.Y',\n",
       "       'mouse.Item2.mouseROI.Width', 'mouse.Item2.mouseROI.Height',\n",
       "       'frameinterval', 'timestamp', 'onlymouse'],\n",
       "      dtype='object')"
      ]
     },
     "execution_count": 19,
     "metadata": {},
     "output_type": "execute_result"
    }
   ],
   "source": [
    "fid.keys()"
   ]
  },
  {
   "cell_type": "code",
   "execution_count": 21,
   "metadata": {},
   "outputs": [
    {
     "name": "stdout",
     "output_type": "stream",
     "text": [
      "0.0\n"
     ]
    }
   ],
   "source": [
    "# mouse movement (excluding the times when the mouse was on the wheel) using pythagoras \n",
    "onlyMouseDist = np.sqrt((mouseXdist[fid[\"onlymouse\"]]**2)+(mouseYdist[fid[\"onlymouse\"]]**2)) \n",
    "onlyMouseDist = onlyMouseDist.sum()\n",
    "print(onlyMouseDist)\n",
    "#plt.plot(onlyMouseDist)"
   ]
  },
  {
   "cell_type": "markdown",
   "metadata": {},
   "source": [
    "---\n",
    "\n",
    "#### before calculating the rest of total movement, we need to make some considerations on the wheel movement:\n",
    "\n",
    "\n"
   ]
  },
  {
   "cell_type": "markdown",
   "metadata": {},
   "source": [
    "**calculate distance travelled while on the wheel**\n",
    "\n",
    "The wheel has a black marker that is used to track its movement. the tracker is set close to the center of the wheel and the readings we have to work with are X and Y positions of this tracker in relation to the bottom left corner of the WheelROI (the next cell plots the raw data for better visualisation)"
   ]
  },
  {
   "cell_type": "code",
   "execution_count": 10,
   "metadata": {},
   "outputs": [
    {
     "data": {
      "text/plain": [
       "[<matplotlib.lines.Line2D at 0x7fcb80d5e4d0>]"
      ]
     },
     "execution_count": 10,
     "metadata": {},
     "output_type": "execute_result"
    },
    {
     "data": {
      "image/png": "[encoded data removed]",
      "text/plain": [
       "<Figure size 432x288 with 1 Axes>"
      ]
     },
     "metadata": {
      "needs_background": "light"
     },
     "output_type": "display_data"
    }
   ],
   "source": [
    "plt.plot(fid[\"wheel.Item2.wheel.Centroid.X\"],fid[\"wheel.Item2.wheel.Centroid.Y\"],'bo')"
   ]
  },
  {
   "cell_type": "markdown",
   "metadata": {},
   "source": [
    "the above graph shows all detected X against Y positions of the wheel marker (this is a bit noisy at the moment, but can/should be cleaned up using bonsai). Gap on the top can happen because of a glare from the IR light from the camera leds."
   ]
  },
  {
   "cell_type": "code",
   "execution_count": 11,
   "metadata": {},
   "outputs": [
    {
     "data": {
      "text/plain": [
       "[<matplotlib.lines.Line2D at 0x7fcb80cd3110>]"
      ]
     },
     "execution_count": 11,
     "metadata": {},
     "output_type": "execute_result"
    },
    {
     "data": {
      "image/png": "[encoded data removed]",
      "text/plain": [
       "<Figure size 432x288 with 1 Axes>"
      ]
     },
     "metadata": {
      "needs_background": "light"
     },
     "output_type": "display_data"
    }
   ],
   "source": [
    "# get the x and y average positions are remove them from each dimension, so to \"center\" the wheel\n",
    "wheelXavg = fid[\"wheel.Item2.wheel.Centroid.X\"].mean()\n",
    "wheelYavg = fid[\"wheel.Item2.wheel.Centroid.Y\"].mean()\n",
    "\n",
    "\n",
    "fid = fid.join(pd.Series(data = (fid[\"wheel.Item2.wheel.Centroid.X\"]-wheelXavg),name=\"wheelXcentered\"))\n",
    "fid = fid.join(pd.Series(data = (fid[\"wheel.Item2.wheel.Centroid.Y\"]-wheelYavg),name=\"wheelYcentered\"))\n",
    "\n",
    "\n",
    "plt.plot(fid[\"wheel.Item2.wheel.Centroid.X\"]-wheelXavg,fid[\"wheel.Item2.wheel.Centroid.Y\"]-wheelYavg,\"bo\")"
   ]
  },
  {
   "cell_type": "markdown",
   "metadata": {},
   "source": [
    "\n",
    "With X' and Y' centered values, we can get distance travelled :  \n",
    "\n",
    "1.calculate the tangent(alpha) value for each frame tan(alpha) = Y'/X'.  \n",
    "2.calculate the arctan(alpha) which gives alpha in radians  \n",
    "3.multiply radians by the radius (either the marker distance from the centre of the wheel, or the wheel radius -  which could be more accurate in terms of distance)  \n",
    "4.get the difference between each frame  \n",
    "5.sum the module of the differences  \n",
    "\n",
    "\n"
   ]
  },
  {
   "cell_type": "code",
   "execution_count": 13,
   "metadata": {},
   "outputs": [
    {
     "name": "stdout",
     "output_type": "stream",
     "text": [
      "147445.99048963984\n"
     ]
    }
   ],
   "source": [
    "#wheelradius: either the distance from marker to wheel center or actual wheel radius.\n",
    "# here just set to 1 for demonstration purposes\n",
    "wheelRadius = 1\n",
    "#1\n",
    "tanA = fid[\"wheelYcentered\"]/fid[\"wheelXcentered\"]\n",
    "#2\n",
    "arcTanA = np.arctan(tanA)\n",
    "#3\n",
    "wheelMov = arcTanA*wheelRadius\n",
    "#4 \n",
    "wheelDist = np.diff(wheelMov)\n",
    "#5\n",
    "wheelDist = np.sum(np.abs(wheelMov))\n",
    "print(wheelDist)\n",
    "#plt.plot(wheelDist)"
   ]
  },
  {
   "cell_type": "markdown",
   "metadata": {},
   "source": [
    "Now that we have the wheel dist, we can add it to the alread calculated mouse distance"
   ]
  },
  {
   "cell_type": "code",
   "execution_count": 14,
   "metadata": {},
   "outputs": [
    {
     "name": "stdout",
     "output_type": "stream",
     "text": [
      "total distance: 153645.2108191952\n",
      "distance percentage on wheel: 0.9596523686192184\n"
     ]
    }
   ],
   "source": [
    "totalDist = onlyMouseDist + wheelDist\n",
    "print(\"total distance: \" + str(totalDist))\n",
    "print(\"distance percentage on wheel: \" + str(wheelDist/totalDist) )\n",
    "#note that for now the wheel radius is wrong, so the distance on the wheel is going to be smaller"
   ]
  },
  {
   "cell_type": "code",
   "execution_count": 15,
   "metadata": {},
   "outputs": [
    {
     "data": {
      "text/plain": [
       "[<matplotlib.lines.Line2D at 0x7fcb80cb1950>,\n",
       " <matplotlib.lines.Line2D at 0x7fcb80cb1950>,\n",
       " <matplotlib.lines.Line2D at 0x7fcb80cb1950>,\n",
       " <matplotlib.lines.Line2D at 0x7fcb80cb1950>,\n",
       " <matplotlib.lines.Line2D at 0x7fcb80cb1950>,\n",
       " <matplotlib.lines.Line2D at 0x7fcb80cb1950>,\n",
       " <matplotlib.lines.Line2D at 0x7fcb80cb1950>,\n",
       " <matplotlib.lines.Line2D at 0x7fcb80cb1950>,\n",
       " <matplotlib.lines.Line2D at 0x7fcb80cb1950>,\n",
       " <matplotlib.lines.Line2D at 0x7fcb80cb1950>,\n",
       " <matplotlib.lines.Line2D at 0x7fcb80cb1950>,\n",
       " <matplotlib.lines.Line2D at 0x7fcb80cb1950>,\n",
       " <matplotlib.lines.Line2D at 0x7fcb80cb1950>,\n",
       " <matplotlib.lines.Line2D at 0x7fcb80cb1950>,\n",
       " <matplotlib.lines.Line2D at 0x7fcb80cb1950>,\n",
       " <matplotlib.lines.Line2D at 0x7fcb80cb1950>,\n",
       " <matplotlib.lines.Line2D at 0x7fcb80cb1950>,\n",
       " <matplotlib.lines.Line2D at 0x7fcb80cb1950>,\n",
       " <matplotlib.lines.Line2D at 0x7fcb80cb1950>,\n",
       " <matplotlib.lines.Line2D at 0x7fcb80cb1950>,\n",
       " <matplotlib.lines.Line2D at 0x7fcb80cb1950>,\n",
       " <matplotlib.lines.Line2D at 0x7fcb80cb1950>,\n",
       " <matplotlib.lines.Line2D at 0x7fcb80cb1950>,\n",
       " <matplotlib.lines.Line2D at 0x7fcb80cb1950>,\n",
       " <matplotlib.lines.Line2D at 0x7fcb80cb1950>,\n",
       " <matplotlib.lines.Line2D at 0x7fcb80cb1950>,\n",
       " <matplotlib.lines.Line2D at 0x7fcb80cb1950>,\n",
       " <matplotlib.lines.Line2D at 0x7fcb80cb1950>,\n",
       " <matplotlib.lines.Line2D at 0x7fcb80cb1950>,\n",
       " <matplotlib.lines.Line2D at 0x7fcb80cb1950>,\n",
       " <matplotlib.lines.Line2D at 0x7fcb80cb1950>,\n",
       " <matplotlib.lines.Line2D at 0x7fcb80cb1950>,\n",
       " <matplotlib.lines.Line2D at 0x7fcb80cb1950>,\n",
       " <matplotlib.lines.Line2D at 0x7fcb80cb1950>,\n",
       " <matplotlib.lines.Line2D at 0x7fcb80cb1950>,\n",
       " <matplotlib.lines.Line2D at 0x7fcb80cb1950>,\n",
       " <matplotlib.lines.Line2D at 0x7fcb80cb1950>,\n",
       " <matplotlib.lines.Line2D at 0x7fcb80cb1950>,\n",
       " <matplotlib.lines.Line2D at 0x7fcb80cb1950>,\n",
       " <matplotlib.lines.Line2D at 0x7fcb80cb1950>,\n",
       " <matplotlib.lines.Line2D at 0x7fcb80cb1950>,\n",
       " <matplotlib.lines.Line2D at 0x7fcb80cb1950>,\n",
       " <matplotlib.lines.Line2D at 0x7fcb80cb1950>,\n",
       " <matplotlib.lines.Line2D at 0x7fcb80cb1950>,\n",
       " <matplotlib.lines.Line2D at 0x7fcb80cb1950>,\n",
       " <matplotlib.lines.Line2D at 0x7fcb80cb1950>,\n",
       " <matplotlib.lines.Line2D at 0x7fcb80cb1950>,\n",
       " <matplotlib.lines.Line2D at 0x7fcb80cb1950>,\n",
       " <matplotlib.lines.Line2D at 0x7fcb80cb1950>,\n",
       " <matplotlib.lines.Line2D at 0x7fcb80cb1950>]"
      ]
     },
     "execution_count": 15,
     "metadata": {},
     "output_type": "execute_result"
    },
    {
     "data": {
      "image/png": "[encoded data removed]",
      "text/plain": [
       "<Figure size 432x288 with 1 Axes>"
      ]
     },
     "metadata": {
      "needs_background": "light"
     },
     "output_type": "display_data"
    }
   ],
   "source": [
    "plt.plot(np.diff(np.arctan(tanA)))*wheelRadius"
   ]
  },
  {
   "cell_type": "code",
   "execution_count": 16,
   "metadata": {},
   "outputs": [
    {
     "data": {
      "text/plain": [
       "48600.1554567502"
      ]
     },
     "execution_count": 16,
     "metadata": {},
     "output_type": "execute_result"
    }
   ],
   "source": [
    "np.sum(np.abs(np.diff(np.arctan(tanA.dropna()))*wheelRadius))"
   ]
  },
  {
   "cell_type": "markdown",
   "metadata": {},
   "source": [
    "#### Moving time\n",
    "\n",
    "Get the total moving time, wheel plus non-wheel\n"
   ]
  },
  {
   "cell_type": "code",
   "execution_count": 17,
   "metadata": {},
   "outputs": [
    {
     "name": "stdout",
     "output_type": "stream",
     "text": [
      "recording time: 238.91964159999043 seconds\n",
      "total moving time: 44.49887999991188 seconds\n",
      "wheel moving time: 38.842483199900016 seconds\n",
      "mouse moving time: 5.656396800011862 seconds\n",
      "percentage of moving time spent on wheel: 0.8728867602954712\n"
     ]
    }
   ],
   "source": [
    "totalTime = fid[\"frameinterval\"]\n",
    "movingTime = totalTime[fid[\"onlymouse\"]].sum() + totalTime[fid[\"wheelmoving\"]].sum()\n",
    "\n",
    "print(\"recording time: \" + str(totalTime.sum())+ \" seconds\")\n",
    "print(\"total moving time: \" + str(movingTime) + \" seconds\")\n",
    "print(\"wheel moving time: \"+ str(totalTime[fid[\"wheelmoving\"]].sum())+ \" seconds\")\n",
    "print(\"mouse moving time: \" + str(totalTime[fid[\"onlymouse\"]].sum())+ \" seconds\")\n",
    "print(\"percentage of moving time spent on wheel: \" + str(totalTime[fid[\"wheelmoving\"]].sum()/movingTime))"
   ]
  },
  {
   "cell_type": "code",
   "execution_count": 33,
   "metadata": {},
   "outputs": [
    {
     "data": {
      "text/plain": [
       "{9.673026}"
      ]
     },
     "execution_count": 33,
     "metadata": {},
     "output_type": "execute_result"
    }
   ],
   "source": [
    "set(fid[\"mouse.Item1.mouse.Centroid.X\"])"
   ]
  },
  {
   "cell_type": "code",
   "execution_count": null,
   "metadata": {},
   "outputs": [],
   "source": []
  }
 ],
 "metadata": {
  "file_extension": ".py",
  "kernelspec": {
   "display_name": "Python 3",
   "language": "python",
   "name": "python3"
  },
  "language_info": {
   "codemirror_mode": {
    "name": "ipython",
    "version": 3
   },
   "file_extension": ".py",
   "mimetype": "text/x-python",
   "name": "python",
   "nbconvert_exporter": "python",
   "pygments_lexer": "ipython3",
   "version": "3.7.4"
  },
  "mimetype": "text/x-python",
  "name": "python",
  "npconvert_exporter": "python",
  "pygments_lexer": "ipython3",
  "version": 3
 },
 "nbformat": 4,
 "nbformat_minor": 4
}
